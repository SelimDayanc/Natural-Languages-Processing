{
 "cells": [
  {
   "cell_type": "code",
   "execution_count": 156,
   "metadata": {},
   "outputs": [],
   "source": [
    "class Synset():\n",
    "    def __init__(self,pos,description):#\"Initialize the synset from a line off a WN synset file.\"\n",
    "        self._pos = pos\n",
    "        if (description, str):\n",
    "            self.description = description\n",
    "        else:\n",
    "            self._list = description\n",
    "    def __retn__(self):\n",
    "        return \"%s : '%s' \" % (self.pos, self.description)\n",
    "    def list(self):\n",
    "        return self.list\n",
    "    def pos(self):\n",
    "        return self.pos\n",
    "    def description(self):\n",
    "        return self.description"
   ]
  },
  {
   "cell_type": "code",
   "execution_count": null,
   "metadata": {},
   "outputs": [],
   "source": [
    "def match(self,str):\n",
    "        for set in self.list:\n",
    "            if set.pos() == str:\n",
    "                return set.list()"
   ]
  },
  {
   "cell_type": "code",
   "execution_count": 206,
   "metadata": {},
   "outputs": [],
   "source": [
    "def lesk_alg(context_sentence, ambiguous_word,synsets=None):\n",
    "    context = set(context_sentence)\n",
    "    if synsets is None:\n",
    "        synsets = all_synsets.match(ambiguous_word)\n",
    "    if not synsets:\n",
    "        return None\n",
    "    sense = max((len(context.intersection(ss.description().split())),ss) \n",
    "                for ss in synsets)\n",
    "    return sense"
   ]
  },
  {
   "cell_type": "code",
   "execution_count": 200,
   "metadata": {},
   "outputs": [],
   "source": [
    "Kol_1 = Synset(\"Kol_1\", \"insan vücudunun, ucunda el bulunan, omuz başından parmak ucuna değin olan bölümü.\")\n",
    "Oyun_1 = Synset(\"Oyun_1\", \"Yetişkin bireylerin veya çocukların eğlence, vakit geçirme veya cocuk avutma amaçlı kullanilan bir şeydir.\")\n",
    "\n",
    "Kol_2 = Synset(\"Kol_2\", \"Kapıyı açıp kapamaya yarayan, genellikle metalden yapılmış tutacak.\")\n",
    "Oyun_2 = Synset(\"Oyun_2\", \"Birini güç ve tehlikeli bir duruma düşürmek için kurulan düzen.\")\n",
    "\n",
    "kol = Synset(\"kol\",[Kol_1,Kol_2])\n",
    "oyun = Synset(\"oyun\",[Oyun_1,Kol_2])\n",
    "\n",
    "all_synsets = Synset(\"all_synsets\",[kol,oyun])\n"
   ]
  },
  {
   "cell_type": "code",
   "execution_count": 202,
   "metadata": {},
   "outputs": [],
   "source": [
    "from nltk.tokenize import  word_tokenize \n",
    "text=\"Geçenlerde Ahmet top oynarken kolunu incitmiş.\"\n",
    "text2=\"Zamanını oyun oynarak geçirdi\"\n",
    "text3=\"Kapının kolu kırılmış.\"\n",
    "text4=\"Bu tuzağa düşmeyeceğim!\"\n",
    "context1=word_tokenize(text1)\n",
    "context2=word_tokenize(text2)\n",
    "context3=word_tokenize(text3)\n",
    "context4=word_tokenize(text4)"
   ]
  },
  {
   "cell_type": "code",
   "execution_count": 204,
   "metadata": {},
   "outputs": [
    {
     "name": "stdout",
     "output_type": "stream",
     "text": [
      "Kol_1 : 'insan vücudunun, ucunda el bulunan, omuz başından parmak ucuna değin olan bölümü.' \n"
     ]
    }
   ],
   "source": [
    "result1=lesk_alg(context1,'kol')\n",
    "print(result1)"
   ]
  },
  {
   "cell_type": "code",
   "execution_count": 205,
   "metadata": {},
   "outputs": [
    {
     "name": "stdout",
     "output_type": "stream",
     "text": [
      "Oyun_1 : 'Yetişkin bireylerin veya çocukların eğlence, vakit geçirme veya cocuk avutma amaçlı kullanilan bir şeydir.' \n"
     ]
    }
   ],
   "source": [
    "result2=lesk_alg(context2,'oyun')\n",
    "print(result2)"
   ]
  },
  {
   "cell_type": "code",
   "execution_count": 197,
   "metadata": {},
   "outputs": [
    {
     "name": "stdout",
     "output_type": "stream",
     "text": [
      "Kol_2 : 'Kapıyı açıp kapamaya yarayan, genellikle metalden yapılmış tutacak.' \n"
     ]
    }
   ],
   "source": [
    "result3=lesk_alg(context3,'kol')\n",
    "print(result3)"
   ]
  },
  {
   "cell_type": "code",
   "execution_count": 199,
   "metadata": {},
   "outputs": [
    {
     "name": "stdout",
     "output_type": "stream",
     "text": [
      "Oyun_2 : 'Birini güç ve tehlikeli bir duruma düşürmek için kurulan düzen.' \n"
     ]
    }
   ],
   "source": [
    "result4=lesk_alg(context4,'oyun')\n",
    "print(result4)w"
   ]
  },
  {
   "cell_type": "code",
   "execution_count": null,
   "metadata": {},
   "outputs": [],
   "source": []
  }
 ],
 "metadata": {
  "kernelspec": {
   "display_name": "Python 3",
   "language": "python",
   "name": "python3"
  },
  "language_info": {
   "codemirror_mode": {
    "name": "ipython",
    "version": 3
   },
   "file_extension": ".py",
   "mimetype": "text/x-python",
   "name": "python",
   "nbconvert_exporter": "python",
   "pygments_lexer": "ipython3",
   "version": "3.8.3"
  }
 },
 "nbformat": 4,
 "nbformat_minor": 4
}
