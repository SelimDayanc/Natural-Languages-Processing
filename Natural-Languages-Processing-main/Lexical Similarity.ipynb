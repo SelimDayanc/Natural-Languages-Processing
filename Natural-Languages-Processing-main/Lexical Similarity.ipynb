{
 "cells": [
  {
   "cell_type": "code",
   "execution_count": 71,
   "metadata": {},
   "outputs": [],
   "source": [
    "import difflib\n",
    "from nltk.tokenize import word_tokenize"
   ]
  },
  {
   "cell_type": "code",
   "execution_count": 216,
   "metadata": {},
   "outputs": [],
   "source": [
    "s1='silgii'"
   ]
  },
  {
   "cell_type": "code",
   "execution_count": 217,
   "metadata": {},
   "outputs": [],
   "source": [
    "s2='silgi'"
   ]
  },
  {
   "cell_type": "code",
   "execution_count": 218,
   "metadata": {},
   "outputs": [
    {
     "name": "stdout",
     "output_type": "stream",
     "text": [
      "0.9090909090909091\n"
     ]
    }
   ],
   "source": [
    "print(difflib.SequenceMatcher(None,s1,s2,False).ratio())"
   ]
  },
  {
   "cell_type": "code",
   "execution_count": 118,
   "metadata": {},
   "outputs": [
    {
     "name": "stdout",
     "output_type": "stream",
     "text": [
      "FuzzyWuzzy Ratio:  60\n",
      "List of ratios: \n",
      "[('asil', 86), ('asetil', 67), ('asena', 60), ('adil', 57), ('adet', 29)] \n",
      "\n",
      "Best among the above list:  ('asil', 86)\n"
     ]
    }
   ],
   "source": [
    "from fuzzywuzzy import fuzz \n",
    "from fuzzywuzzy import process \n",
    "  \n",
    "s1 = \"Güneş kendi etrafında döner.\"\n",
    "s2 = \"Dünya ve gezegenler Güneş etrafında dönerler.\"\n",
    "print(\"FuzzyWuzzy Ratio: \", fuzz.ratio(s1, s2))\n",
    " \n",
    "query = 'asi'\n",
    "choices = ['adil', 'adet','asil','asena','asetil']  \n",
    "print (\"List of ratios: \")\n",
    "print (process.extract(query, choices), '\\n')\n",
    "print (\"Best among the above list: \",process.extractOne(query, choices))"
   ]
  },
  {
   "cell_type": "code",
   "execution_count": 105,
   "metadata": {},
   "outputs": [
    {
     "name": "stderr",
     "output_type": "stream",
     "text": [
      "[nltk_data] Downloading package stopwords to\n",
      "[nltk_data]     C:\\Users\\lenovo\\AppData\\Roaming\\nltk_data...\n",
      "[nltk_data]   Package stopwords is already up-to-date!\n"
     ]
    }
   ],
   "source": [
    "import nltk\n",
    "from nltk.collocations import *\n",
    "from collections import Counter\n",
    "import re\n",
    "nltk.download('stopwords')\n",
    "import difflib\n",
    "from nltk.tokenize import word_tokenize\n",
    "import pandas as pd"
   ]
  },
  {
   "cell_type": "code",
   "execution_count": 183,
   "metadata": {},
   "outputs": [],
   "source": [
    "def filtered(text):\n",
    "    wnl = nltk.stem.WordNetLemmatizer()\n",
    "    stopwords = nltk.corpus.stopwords.words('turkish') \n",
    "    words = re.sub(r'[^\\w\\s]', '', text).split()\n",
    "    return [wnl.lemmatize(word) for word in words if word not in stopwords]"
   ]
  },
  {
   "cell_type": "code",
   "execution_count": 184,
   "metadata": {},
   "outputs": [],
   "source": [
    "open_file=open('turkish words.txt',encoding=\"utf-8\")\n",
    "words=open_file.read()"
   ]
  },
  {
   "cell_type": "code",
   "execution_count": 185,
   "metadata": {},
   "outputs": [],
   "source": [
    " words = filtered(words)"
   ]
  },
  {
   "cell_type": "code",
   "execution_count": 209,
   "metadata": {},
   "outputs": [
    {
     "name": "stdout",
     "output_type": "stream",
     "text": [
      "('belediy',) is used 5 times\n",
      "('çoçuk',) is used 5 times\n",
      "('Avrup',) is used 5 times\n",
      "('kadın',) is used 5 times\n",
      "('sossyal',) is used 5 times\n",
      "('üniversitte',) is used 5 times\n",
      "('dakım',) is used 5 times\n",
      "('öğrenci',) is used 5 times\n",
      "('vergi',) is used 5 times\n",
      "('eğitim',) is used 5 times\n",
      "('gelecek',) is used 5 times\n",
      "('sağlık',) is used 5 times\n",
      "('muhakeme',) is used 5 times\n",
      "('yönetmelik',) is used 5 times\n"
     ]
    }
   ],
   "source": [
    "low=nltk.ngrams(words,1)\n",
    "lowFrequency=Counter(low)\n",
    "valuesOfLowFrequency=list(lowFrequency.values())\n",
    "lowFrequencyList=list(lowFrequency)\n",
    "\n",
    "for x in range(0,len(lowFrequencyList)):\n",
    "    if(valuesOfLowFrequency[x]<=5):\n",
    "        print(lowFrequencyList[x],\"is used\",valuesOfLowFrequency[x],\"times\")"
   ]
  },
  {
   "cell_type": "code",
   "execution_count": 212,
   "metadata": {},
   "outputs": [
    {
     "name": "stdout",
     "output_type": "stream",
     "text": [
      "('insan',) is used 35 times\n",
      "('Türkiye',) is used 30 times\n",
      "('belediye',) is used 66 times\n",
      "('çocuk',) is used 75 times\n",
      "('Avrupa',) is used 96 times\n",
      "('sosyal',) is used 76 times\n",
      "('üniversite',) is used 63 times\n",
      "('takım',) is used 78 times\n",
      "('internet',) is used 49 times\n",
      "('kültür',) is used 48 times\n",
      "('şehir',) is used 10 times\n",
      "('kaygı',) is used 24 times\n",
      "('hayat',) is used 24 times\n",
      "('para',) is used 32 times\n"
     ]
    }
   ],
   "source": [
    "high_list=nltk.ngrams(words,1)\n",
    "highFrequency=Counter(high_list)\n",
    "valuesOfHighFrequency=list(highFrequency.values())\n",
    "highFrequencyList=list(highFrequency)\n",
    "\n",
    "for x in range(0,len(highFrequencyList)):\n",
    "    if(valuesOfHighFrequency[x]>5):\n",
    "        print(highFrequencyList[x],\"is used\",valuesOfHighFrequency[x],\"times\")"
   ]
  },
  {
   "cell_type": "code",
   "execution_count": 149,
   "metadata": {},
   "outputs": [],
   "source": [
    "low_freq_list=\"\"\"belediy çoçuk Avrup kadın sossyal üniversitte dakım\"\"\"\n",
    "low_freq_list=low_freq_list.split()"
   ]
  },
  {
   "cell_type": "code",
   "execution_count": 150,
   "metadata": {},
   "outputs": [],
   "source": [
    "high_freq_list=\"\"\"belediye çocuk Avrupa sosyal üniversite takım\"\"\"\n",
    "high_freq_list=high_freq_list.split()"
   ]
  },
  {
   "cell_type": "code",
   "execution_count": 151,
   "metadata": {},
   "outputs": [
    {
     "name": "stdout",
     "output_type": "stream",
     "text": [
      "[(['belediy'], ['belediye']), 'Similarity=>', 0.9333333333333333]\n",
      "[(['belediy'], ['çocuk']), 'Similarity=>', 0.0]\n",
      "[(['belediy'], ['Avrupa']), 'Similarity=>', 0.0]\n",
      "[(['belediy'], ['sosyal']), 'Similarity=>', 0.15384615384615385]\n",
      "[(['belediy'], ['üniversite']), 'Similarity=>', 0.23529411764705882]\n",
      "[(['belediy'], ['takım']), 'Similarity=>', 0.0]\n",
      "[(['çoçuk'], ['belediye']), 'Similarity=>', 0.0]\n",
      "[(['çoçuk'], ['çocuk']), 'Similarity=>', 0.8]\n",
      "[(['çoçuk'], ['Avrupa']), 'Similarity=>', 0.18181818181818182]\n",
      "[(['çoçuk'], ['sosyal']), 'Similarity=>', 0.18181818181818182]\n",
      "[(['çoçuk'], ['üniversite']), 'Similarity=>', 0.0]\n",
      "[(['çoçuk'], ['takım']), 'Similarity=>', 0.2]\n",
      "[(['Avrup'], ['belediye']), 'Similarity=>', 0.0]\n",
      "[(['Avrup'], ['çocuk']), 'Similarity=>', 0.2]\n",
      "[(['Avrup'], ['Avrupa']), 'Similarity=>', 0.9090909090909091]\n",
      "[(['Avrup'], ['sosyal']), 'Similarity=>', 0.0]\n",
      "[(['Avrup'], ['üniversite']), 'Similarity=>', 0.26666666666666666]\n",
      "[(['Avrup'], ['takım']), 'Similarity=>', 0.0]\n",
      "[(['kadın'], ['belediye']), 'Similarity=>', 0.15384615384615385]\n",
      "[(['kadın'], ['çocuk']), 'Similarity=>', 0.2]\n",
      "[(['kadın'], ['Avrupa']), 'Similarity=>', 0.18181818181818182]\n",
      "[(['kadın'], ['sosyal']), 'Similarity=>', 0.18181818181818182]\n",
      "[(['kadın'], ['üniversite']), 'Similarity=>', 0.13333333333333333]\n",
      "[(['kadın'], ['takım']), 'Similarity=>', 0.4]\n",
      "[(['sossyal'], ['belediye']), 'Similarity=>', 0.13333333333333333]\n",
      "[(['sossyal'], ['çocuk']), 'Similarity=>', 0.16666666666666666]\n",
      "[(['sossyal'], ['Avrupa']), 'Similarity=>', 0.15384615384615385]\n",
      "[(['sossyal'], ['sosyal']), 'Similarity=>', 0.9230769230769231]\n",
      "[(['sossyal'], ['üniversite']), 'Similarity=>', 0.11764705882352941]\n",
      "[(['sossyal'], ['takım']), 'Similarity=>', 0.16666666666666666]\n",
      "[(['üniversitte'], ['belediye']), 'Similarity=>', 0.21052631578947367]\n",
      "[(['üniversitte'], ['çocuk']), 'Similarity=>', 0.0]\n",
      "[(['üniversitte'], ['Avrupa']), 'Similarity=>', 0.23529411764705882]\n",
      "[(['üniversitte'], ['sosyal']), 'Similarity=>', 0.11764705882352941]\n",
      "[(['üniversitte'], ['üniversite']), 'Similarity=>', 0.9523809523809523]\n",
      "[(['üniversitte'], ['takım']), 'Similarity=>', 0.125]\n",
      "[(['dakım'], ['belediye']), 'Similarity=>', 0.15384615384615385]\n",
      "[(['dakım'], ['çocuk']), 'Similarity=>', 0.2]\n",
      "[(['dakım'], ['Avrupa']), 'Similarity=>', 0.18181818181818182]\n",
      "[(['dakım'], ['sosyal']), 'Similarity=>', 0.18181818181818182]\n",
      "[(['dakım'], ['üniversite']), 'Similarity=>', 0.0]\n",
      "[(['dakım'], ['takım']), 'Similarity=>', 0.8]\n"
     ]
    }
   ],
   "source": [
    "for token1 in low_freq_list:\n",
    "    for token2 in high_freq_list:\n",
    "        mylist=[(token1.splitlines(),token2.splitlines()),\"Similarity=>\",difflib.SequenceMatcher(None,token1,token2,False).ratio()]\n",
    "        print(mylist)"
   ]
  },
  {
   "cell_type": "code",
   "execution_count": 152,
   "metadata": {},
   "outputs": [
    {
     "data": {
      "text/plain": [
       "[(['belediy'], ['belediye'], 0.9333333333333333),\n",
       " (['çoçuk'], ['belediye'], 0.0),\n",
       " (['Avrup'], ['belediye'], 0.0),\n",
       " (['kadın'], ['belediye'], 0.15384615384615385),\n",
       " (['sossyal'], ['belediye'], 0.13333333333333333),\n",
       " (['üniversitte'], ['belediye'], 0.21052631578947367),\n",
       " (['dakım'], ['belediye'], 0.15384615384615385),\n",
       " (['belediy'], ['çocuk'], 0.0),\n",
       " (['çoçuk'], ['çocuk'], 0.8),\n",
       " (['Avrup'], ['çocuk'], 0.2),\n",
       " (['kadın'], ['çocuk'], 0.2),\n",
       " (['sossyal'], ['çocuk'], 0.16666666666666666),\n",
       " (['üniversitte'], ['çocuk'], 0.0),\n",
       " (['dakım'], ['çocuk'], 0.2),\n",
       " (['belediy'], ['Avrupa'], 0.0),\n",
       " (['çoçuk'], ['Avrupa'], 0.18181818181818182),\n",
       " (['Avrup'], ['Avrupa'], 0.9090909090909091),\n",
       " (['kadın'], ['Avrupa'], 0.18181818181818182),\n",
       " (['sossyal'], ['Avrupa'], 0.15384615384615385),\n",
       " (['üniversitte'], ['Avrupa'], 0.23529411764705882),\n",
       " (['dakım'], ['Avrupa'], 0.18181818181818182),\n",
       " (['belediy'], ['sosyal'], 0.15384615384615385),\n",
       " (['çoçuk'], ['sosyal'], 0.18181818181818182),\n",
       " (['Avrup'], ['sosyal'], 0.0),\n",
       " (['kadın'], ['sosyal'], 0.18181818181818182),\n",
       " (['sossyal'], ['sosyal'], 0.9230769230769231),\n",
       " (['üniversitte'], ['sosyal'], 0.11764705882352941),\n",
       " (['dakım'], ['sosyal'], 0.18181818181818182),\n",
       " (['belediy'], ['üniversite'], 0.23529411764705882),\n",
       " (['çoçuk'], ['üniversite'], 0.0),\n",
       " (['Avrup'], ['üniversite'], 0.26666666666666666),\n",
       " (['kadın'], ['üniversite'], 0.13333333333333333),\n",
       " (['sossyal'], ['üniversite'], 0.11764705882352941),\n",
       " (['üniversitte'], ['üniversite'], 0.9523809523809523),\n",
       " (['dakım'], ['üniversite'], 0.0),\n",
       " (['belediy'], ['takım'], 0.0),\n",
       " (['çoçuk'], ['takım'], 0.2),\n",
       " (['Avrup'], ['takım'], 0.0),\n",
       " (['kadın'], ['takım'], 0.4),\n",
       " (['sossyal'], ['takım'], 0.16666666666666666),\n",
       " (['üniversitte'], ['takım'], 0.125),\n",
       " (['dakım'], ['takım'], 0.8)]"
      ]
     },
     "execution_count": 152,
     "metadata": {},
     "output_type": "execute_result"
    }
   ],
   "source": [
    "mylist2=[(token1.splitlines(),token2.splitlines(),difflib.SequenceMatcher(None,token1,token2,False).ratio()) for token2 in high_freq_list for token1 in low_freq_list]\n",
    "mylist2"
   ]
  },
  {
   "cell_type": "code",
   "execution_count": 153,
   "metadata": {},
   "outputs": [],
   "source": [
    "df=pd.DataFrame(mylist2)"
   ]
  },
  {
   "cell_type": "code",
   "execution_count": 154,
   "metadata": {},
   "outputs": [
    {
     "data": {
      "text/html": [
       "<div>\n",
       "<style scoped>\n",
       "    .dataframe tbody tr th:only-of-type {\n",
       "        vertical-align: middle;\n",
       "    }\n",
       "\n",
       "    .dataframe tbody tr th {\n",
       "        vertical-align: top;\n",
       "    }\n",
       "\n",
       "    .dataframe thead th {\n",
       "        text-align: right;\n",
       "    }\n",
       "</style>\n",
       "<table border=\"1\" class=\"dataframe\">\n",
       "  <thead>\n",
       "    <tr style=\"text-align: right;\">\n",
       "      <th></th>\n",
       "      <th>0</th>\n",
       "      <th>1</th>\n",
       "      <th>2</th>\n",
       "    </tr>\n",
       "  </thead>\n",
       "  <tbody>\n",
       "    <tr>\n",
       "      <th>0</th>\n",
       "      <td>[belediy]</td>\n",
       "      <td>[belediye]</td>\n",
       "      <td>0.933333</td>\n",
       "    </tr>\n",
       "    <tr>\n",
       "      <th>1</th>\n",
       "      <td>[çoçuk]</td>\n",
       "      <td>[belediye]</td>\n",
       "      <td>0.000000</td>\n",
       "    </tr>\n",
       "    <tr>\n",
       "      <th>2</th>\n",
       "      <td>[Avrup]</td>\n",
       "      <td>[belediye]</td>\n",
       "      <td>0.000000</td>\n",
       "    </tr>\n",
       "    <tr>\n",
       "      <th>3</th>\n",
       "      <td>[kadın]</td>\n",
       "      <td>[belediye]</td>\n",
       "      <td>0.153846</td>\n",
       "    </tr>\n",
       "    <tr>\n",
       "      <th>4</th>\n",
       "      <td>[sossyal]</td>\n",
       "      <td>[belediye]</td>\n",
       "      <td>0.133333</td>\n",
       "    </tr>\n",
       "  </tbody>\n",
       "</table>\n",
       "</div>"
      ],
      "text/plain": [
       "           0           1         2\n",
       "0  [belediy]  [belediye]  0.933333\n",
       "1    [çoçuk]  [belediye]  0.000000\n",
       "2    [Avrup]  [belediye]  0.000000\n",
       "3    [kadın]  [belediye]  0.153846\n",
       "4  [sossyal]  [belediye]  0.133333"
      ]
     },
     "execution_count": 154,
     "metadata": {},
     "output_type": "execute_result"
    }
   ],
   "source": [
    "df.head()"
   ]
  },
  {
   "cell_type": "code",
   "execution_count": 155,
   "metadata": {},
   "outputs": [
    {
     "data": {
      "text/html": [
       "<div>\n",
       "<style scoped>\n",
       "    .dataframe tbody tr th:only-of-type {\n",
       "        vertical-align: middle;\n",
       "    }\n",
       "\n",
       "    .dataframe tbody tr th {\n",
       "        vertical-align: top;\n",
       "    }\n",
       "\n",
       "    .dataframe thead th {\n",
       "        text-align: right;\n",
       "    }\n",
       "</style>\n",
       "<table border=\"1\" class=\"dataframe\">\n",
       "  <thead>\n",
       "    <tr style=\"text-align: right;\">\n",
       "      <th></th>\n",
       "      <th>Low_token</th>\n",
       "      <th>High_token</th>\n",
       "      <th>Similarity</th>\n",
       "    </tr>\n",
       "  </thead>\n",
       "  <tbody>\n",
       "    <tr>\n",
       "      <th>0</th>\n",
       "      <td>[belediy]</td>\n",
       "      <td>[belediye]</td>\n",
       "      <td>0.933333</td>\n",
       "    </tr>\n",
       "    <tr>\n",
       "      <th>1</th>\n",
       "      <td>[çoçuk]</td>\n",
       "      <td>[belediye]</td>\n",
       "      <td>0.000000</td>\n",
       "    </tr>\n",
       "    <tr>\n",
       "      <th>2</th>\n",
       "      <td>[Avrup]</td>\n",
       "      <td>[belediye]</td>\n",
       "      <td>0.000000</td>\n",
       "    </tr>\n",
       "    <tr>\n",
       "      <th>3</th>\n",
       "      <td>[kadın]</td>\n",
       "      <td>[belediye]</td>\n",
       "      <td>0.153846</td>\n",
       "    </tr>\n",
       "    <tr>\n",
       "      <th>4</th>\n",
       "      <td>[sossyal]</td>\n",
       "      <td>[belediye]</td>\n",
       "      <td>0.133333</td>\n",
       "    </tr>\n",
       "    <tr>\n",
       "      <th>5</th>\n",
       "      <td>[üniversitte]</td>\n",
       "      <td>[belediye]</td>\n",
       "      <td>0.210526</td>\n",
       "    </tr>\n",
       "    <tr>\n",
       "      <th>6</th>\n",
       "      <td>[dakım]</td>\n",
       "      <td>[belediye]</td>\n",
       "      <td>0.153846</td>\n",
       "    </tr>\n",
       "    <tr>\n",
       "      <th>7</th>\n",
       "      <td>[belediy]</td>\n",
       "      <td>[çocuk]</td>\n",
       "      <td>0.000000</td>\n",
       "    </tr>\n",
       "    <tr>\n",
       "      <th>8</th>\n",
       "      <td>[çoçuk]</td>\n",
       "      <td>[çocuk]</td>\n",
       "      <td>0.800000</td>\n",
       "    </tr>\n",
       "    <tr>\n",
       "      <th>9</th>\n",
       "      <td>[Avrup]</td>\n",
       "      <td>[çocuk]</td>\n",
       "      <td>0.200000</td>\n",
       "    </tr>\n",
       "    <tr>\n",
       "      <th>10</th>\n",
       "      <td>[kadın]</td>\n",
       "      <td>[çocuk]</td>\n",
       "      <td>0.200000</td>\n",
       "    </tr>\n",
       "    <tr>\n",
       "      <th>11</th>\n",
       "      <td>[sossyal]</td>\n",
       "      <td>[çocuk]</td>\n",
       "      <td>0.166667</td>\n",
       "    </tr>\n",
       "    <tr>\n",
       "      <th>12</th>\n",
       "      <td>[üniversitte]</td>\n",
       "      <td>[çocuk]</td>\n",
       "      <td>0.000000</td>\n",
       "    </tr>\n",
       "    <tr>\n",
       "      <th>13</th>\n",
       "      <td>[dakım]</td>\n",
       "      <td>[çocuk]</td>\n",
       "      <td>0.200000</td>\n",
       "    </tr>\n",
       "    <tr>\n",
       "      <th>14</th>\n",
       "      <td>[belediy]</td>\n",
       "      <td>[Avrupa]</td>\n",
       "      <td>0.000000</td>\n",
       "    </tr>\n",
       "    <tr>\n",
       "      <th>15</th>\n",
       "      <td>[çoçuk]</td>\n",
       "      <td>[Avrupa]</td>\n",
       "      <td>0.181818</td>\n",
       "    </tr>\n",
       "    <tr>\n",
       "      <th>16</th>\n",
       "      <td>[Avrup]</td>\n",
       "      <td>[Avrupa]</td>\n",
       "      <td>0.909091</td>\n",
       "    </tr>\n",
       "    <tr>\n",
       "      <th>17</th>\n",
       "      <td>[kadın]</td>\n",
       "      <td>[Avrupa]</td>\n",
       "      <td>0.181818</td>\n",
       "    </tr>\n",
       "    <tr>\n",
       "      <th>18</th>\n",
       "      <td>[sossyal]</td>\n",
       "      <td>[Avrupa]</td>\n",
       "      <td>0.153846</td>\n",
       "    </tr>\n",
       "    <tr>\n",
       "      <th>19</th>\n",
       "      <td>[üniversitte]</td>\n",
       "      <td>[Avrupa]</td>\n",
       "      <td>0.235294</td>\n",
       "    </tr>\n",
       "    <tr>\n",
       "      <th>20</th>\n",
       "      <td>[dakım]</td>\n",
       "      <td>[Avrupa]</td>\n",
       "      <td>0.181818</td>\n",
       "    </tr>\n",
       "    <tr>\n",
       "      <th>21</th>\n",
       "      <td>[belediy]</td>\n",
       "      <td>[sosyal]</td>\n",
       "      <td>0.153846</td>\n",
       "    </tr>\n",
       "    <tr>\n",
       "      <th>22</th>\n",
       "      <td>[çoçuk]</td>\n",
       "      <td>[sosyal]</td>\n",
       "      <td>0.181818</td>\n",
       "    </tr>\n",
       "    <tr>\n",
       "      <th>23</th>\n",
       "      <td>[Avrup]</td>\n",
       "      <td>[sosyal]</td>\n",
       "      <td>0.000000</td>\n",
       "    </tr>\n",
       "    <tr>\n",
       "      <th>24</th>\n",
       "      <td>[kadın]</td>\n",
       "      <td>[sosyal]</td>\n",
       "      <td>0.181818</td>\n",
       "    </tr>\n",
       "    <tr>\n",
       "      <th>25</th>\n",
       "      <td>[sossyal]</td>\n",
       "      <td>[sosyal]</td>\n",
       "      <td>0.923077</td>\n",
       "    </tr>\n",
       "    <tr>\n",
       "      <th>26</th>\n",
       "      <td>[üniversitte]</td>\n",
       "      <td>[sosyal]</td>\n",
       "      <td>0.117647</td>\n",
       "    </tr>\n",
       "    <tr>\n",
       "      <th>27</th>\n",
       "      <td>[dakım]</td>\n",
       "      <td>[sosyal]</td>\n",
       "      <td>0.181818</td>\n",
       "    </tr>\n",
       "    <tr>\n",
       "      <th>28</th>\n",
       "      <td>[belediy]</td>\n",
       "      <td>[üniversite]</td>\n",
       "      <td>0.235294</td>\n",
       "    </tr>\n",
       "    <tr>\n",
       "      <th>29</th>\n",
       "      <td>[çoçuk]</td>\n",
       "      <td>[üniversite]</td>\n",
       "      <td>0.000000</td>\n",
       "    </tr>\n",
       "    <tr>\n",
       "      <th>30</th>\n",
       "      <td>[Avrup]</td>\n",
       "      <td>[üniversite]</td>\n",
       "      <td>0.266667</td>\n",
       "    </tr>\n",
       "    <tr>\n",
       "      <th>31</th>\n",
       "      <td>[kadın]</td>\n",
       "      <td>[üniversite]</td>\n",
       "      <td>0.133333</td>\n",
       "    </tr>\n",
       "    <tr>\n",
       "      <th>32</th>\n",
       "      <td>[sossyal]</td>\n",
       "      <td>[üniversite]</td>\n",
       "      <td>0.117647</td>\n",
       "    </tr>\n",
       "    <tr>\n",
       "      <th>33</th>\n",
       "      <td>[üniversitte]</td>\n",
       "      <td>[üniversite]</td>\n",
       "      <td>0.952381</td>\n",
       "    </tr>\n",
       "    <tr>\n",
       "      <th>34</th>\n",
       "      <td>[dakım]</td>\n",
       "      <td>[üniversite]</td>\n",
       "      <td>0.000000</td>\n",
       "    </tr>\n",
       "    <tr>\n",
       "      <th>35</th>\n",
       "      <td>[belediy]</td>\n",
       "      <td>[takım]</td>\n",
       "      <td>0.000000</td>\n",
       "    </tr>\n",
       "    <tr>\n",
       "      <th>36</th>\n",
       "      <td>[çoçuk]</td>\n",
       "      <td>[takım]</td>\n",
       "      <td>0.200000</td>\n",
       "    </tr>\n",
       "    <tr>\n",
       "      <th>37</th>\n",
       "      <td>[Avrup]</td>\n",
       "      <td>[takım]</td>\n",
       "      <td>0.000000</td>\n",
       "    </tr>\n",
       "    <tr>\n",
       "      <th>38</th>\n",
       "      <td>[kadın]</td>\n",
       "      <td>[takım]</td>\n",
       "      <td>0.400000</td>\n",
       "    </tr>\n",
       "    <tr>\n",
       "      <th>39</th>\n",
       "      <td>[sossyal]</td>\n",
       "      <td>[takım]</td>\n",
       "      <td>0.166667</td>\n",
       "    </tr>\n",
       "    <tr>\n",
       "      <th>40</th>\n",
       "      <td>[üniversitte]</td>\n",
       "      <td>[takım]</td>\n",
       "      <td>0.125000</td>\n",
       "    </tr>\n",
       "    <tr>\n",
       "      <th>41</th>\n",
       "      <td>[dakım]</td>\n",
       "      <td>[takım]</td>\n",
       "      <td>0.800000</td>\n",
       "    </tr>\n",
       "  </tbody>\n",
       "</table>\n",
       "</div>"
      ],
      "text/plain": [
       "        Low_token    High_token  Similarity\n",
       "0       [belediy]    [belediye]    0.933333\n",
       "1         [çoçuk]    [belediye]    0.000000\n",
       "2         [Avrup]    [belediye]    0.000000\n",
       "3         [kadın]    [belediye]    0.153846\n",
       "4       [sossyal]    [belediye]    0.133333\n",
       "5   [üniversitte]    [belediye]    0.210526\n",
       "6         [dakım]    [belediye]    0.153846\n",
       "7       [belediy]       [çocuk]    0.000000\n",
       "8         [çoçuk]       [çocuk]    0.800000\n",
       "9         [Avrup]       [çocuk]    0.200000\n",
       "10        [kadın]       [çocuk]    0.200000\n",
       "11      [sossyal]       [çocuk]    0.166667\n",
       "12  [üniversitte]       [çocuk]    0.000000\n",
       "13        [dakım]       [çocuk]    0.200000\n",
       "14      [belediy]      [Avrupa]    0.000000\n",
       "15        [çoçuk]      [Avrupa]    0.181818\n",
       "16        [Avrup]      [Avrupa]    0.909091\n",
       "17        [kadın]      [Avrupa]    0.181818\n",
       "18      [sossyal]      [Avrupa]    0.153846\n",
       "19  [üniversitte]      [Avrupa]    0.235294\n",
       "20        [dakım]      [Avrupa]    0.181818\n",
       "21      [belediy]      [sosyal]    0.153846\n",
       "22        [çoçuk]      [sosyal]    0.181818\n",
       "23        [Avrup]      [sosyal]    0.000000\n",
       "24        [kadın]      [sosyal]    0.181818\n",
       "25      [sossyal]      [sosyal]    0.923077\n",
       "26  [üniversitte]      [sosyal]    0.117647\n",
       "27        [dakım]      [sosyal]    0.181818\n",
       "28      [belediy]  [üniversite]    0.235294\n",
       "29        [çoçuk]  [üniversite]    0.000000\n",
       "30        [Avrup]  [üniversite]    0.266667\n",
       "31        [kadın]  [üniversite]    0.133333\n",
       "32      [sossyal]  [üniversite]    0.117647\n",
       "33  [üniversitte]  [üniversite]    0.952381\n",
       "34        [dakım]  [üniversite]    0.000000\n",
       "35      [belediy]       [takım]    0.000000\n",
       "36        [çoçuk]       [takım]    0.200000\n",
       "37        [Avrup]       [takım]    0.000000\n",
       "38        [kadın]       [takım]    0.400000\n",
       "39      [sossyal]       [takım]    0.166667\n",
       "40  [üniversitte]       [takım]    0.125000\n",
       "41        [dakım]       [takım]    0.800000"
      ]
     },
     "execution_count": 155,
     "metadata": {},
     "output_type": "execute_result"
    }
   ],
   "source": [
    "df.columns=[\"Low_token\",\"High_token\",\"Similarity\"]\n",
    "df"
   ]
  },
  {
   "cell_type": "code",
   "execution_count": 156,
   "metadata": {},
   "outputs": [
    {
     "data": {
      "text/plain": [
       "0.9333333333333333"
      ]
     },
     "execution_count": 156,
     "metadata": {},
     "output_type": "execute_result"
    }
   ],
   "source": [
    "from difflib import SequenceMatcher\n",
    "m = SequenceMatcher(None, \"belediy\", \"belediye\")\n",
    "m.ratio() "
   ]
  },
  {
   "cell_type": "code",
   "execution_count": 157,
   "metadata": {},
   "outputs": [
    {
     "data": {
      "text/plain": [
       "0.8"
      ]
     },
     "execution_count": 157,
     "metadata": {},
     "output_type": "execute_result"
    }
   ],
   "source": [
    "from difflib import SequenceMatcher\n",
    "m = SequenceMatcher(None, \"dakım\", \"takım\")\n",
    "m.ratio() "
   ]
  },
  {
   "cell_type": "code",
   "execution_count": 205,
   "metadata": {},
   "outputs": [
    {
     "data": {
      "text/plain": [
       "0.9230769230769231"
      ]
     },
     "execution_count": 205,
     "metadata": {},
     "output_type": "execute_result"
    }
   ],
   "source": [
    "from difflib import SequenceMatcher\n",
    "m = SequenceMatcher(None, \"sossyal\", \"sosyal\")\n",
    "m.ratio() "
   ]
  },
  {
   "cell_type": "code",
   "execution_count": null,
   "metadata": {},
   "outputs": [],
   "source": []
  }
 ],
 "metadata": {
  "kernelspec": {
   "display_name": "Python 3",
   "language": "python",
   "name": "python3"
  },
  "language_info": {
   "codemirror_mode": {
    "name": "ipython",
    "version": 3
   },
   "file_extension": ".py",
   "mimetype": "text/x-python",
   "name": "python",
   "nbconvert_exporter": "python",
   "pygments_lexer": "ipython3",
   "version": "3.8.3"
  }
 },
 "nbformat": 4,
 "nbformat_minor": 4
}
